{
 "cells": [
  {
   "cell_type": "code",
   "execution_count": 5,
   "metadata": {},
   "outputs": [],
   "source": [
    "import sys\n",
    "sys.path.append('../../../')\n",
    "from QC5 import * \n",
    "\n",
    "import numpy as np\n",
    "import matplotlib.pyplot as plt \n",
    "%config InlineBackend.figure_format = 'retina'\n",
    "from pyscf import gto,scf,fci,mcscf,ao2mo"
   ]
  },
  {
   "cell_type": "markdown",
   "metadata": {},
   "source": [
    "# R=2.0"
   ]
  },
  {
   "cell_type": "code",
   "execution_count": 79,
   "metadata": {},
   "outputs": [
    {
     "name": "stdout",
     "output_type": "stream",
     "text": [
      "converged SCF energy = -106.871504045608\n",
      "[2. 2. 2. 2. 2. 2. 2. 0. 0. 0.]\n",
      "active [4, 5, 6, 7, 8, 9] frozen [0, 1, 2, 3]\n",
      "new norb 6 new nelec (3, 3)\n"
     ]
    }
   ],
   "source": [
    "# Optimized version for computing h1eff and h2act \n",
    "def get_ActiveSpaceModelOpt(mol, mf, mo_coeff, list_frozen, list_active):\n",
    "    ncore = len(list_frozen)\n",
    "    nact = len(list_active)\n",
    "    # fake object\n",
    "    nelecas = mol.nelectron - 2*ncore\n",
    "    mc = mcscf.CASCI(mf, nact, nelecas)\n",
    "    h1act, ecore = mc.get_h1eff(mo_coeff)\n",
    "    mo_act = mo_coeff[:,list_active]\n",
    "    h2act = ao2mo.outcore.general_iofree(mol,(mo_act,)*4,compact=0).reshape(nact,nact,nact,nact)\n",
    "    return ecore,h1act,h2act\n",
    "\n",
    "# molecule\n",
    "mol = gto.Mole()\n",
    "mol.atom = genAn('N',2,2.0)\n",
    "mol.basis = 'sto3g' \n",
    "mol.charge = 0 \n",
    "mol.spin = 0\n",
    "mol.symmetry = True\n",
    "mol.build()   \n",
    "# RHF\n",
    "\n",
    "mf = scf.RHF(mol)\n",
    "eRHF = mf.kernel()\n",
    "\n",
    "\n",
    "mo_coeff = mf.mo_coeff\n",
    "ovlp = mf.get_ovlp()\n",
    "list_frozen=[0,1,2,3]\n",
    "list_active=[4,5,6,7,8,9]\n",
    "ecore,h1a,h2a = get_ActiveSpaceModelOpt(mol,mf, mo_coeff, list_frozen, list_active)\n",
    "\n",
    "norb  = len(list_active)\n",
    "nocc = np.count_nonzero(mf.get_occ()) - len(list_frozen)\n",
    "nelec = (nocc,nocc)\n",
    "\n",
    "print(mf.get_occ())\n",
    "print('active',list_active,'frozen',list_frozen)\n",
    "print('new norb',norb,'new nelec',nelec)\n",
    "\n",
    "# # RHF basis\n",
    "fermion_transform = 'jordan_wigner'\n",
    "h1,h2 = get_mo2so_h1_h2_int(h1a,h2a)\n",
    "qubit_hamiltonian = get_qubit_hamiltonian(ecore,h1,h2,fermion_transform)"
   ]
  },
  {
   "cell_type": "code",
   "execution_count": 80,
   "metadata": {},
   "outputs": [],
   "source": [
    "# na nb penalty ham\n",
    "qubit_na,qubit_nb = get_qubit_na_nb_operator(norb,fermion_transform)\n",
    "qubit_na_nb_preserve = (qubit_na-nelec[0])**2 + (qubit_nb-nelec[1])**2\n",
    "qubit_splus,qubit_sminus = get_qubit_adder_operator(ovlp,mo_coeff,fermion_transform,list_active)\n",
    "beta = 1.0\n",
    "ham = qubit_hamiltonian + beta*qubit_na_nb_preserve + beta*qubit_splus*qubit_sminus"
   ]
  }
 ],
 "metadata": {
  "kernelspec": {
   "display_name": "Python [conda env:py39]",
   "language": "python",
   "name": "conda-env-py39-py"
  },
  "language_info": {
   "codemirror_mode": {
    "name": "ipython",
    "version": 3
   },
   "file_extension": ".py",
   "mimetype": "text/x-python",
   "name": "python",
   "nbconvert_exporter": "python",
   "pygments_lexer": "ipython3",
   "version": "3.9.0"
  },
  "toc": {
   "base_numbering": 1,
   "nav_menu": {},
   "number_sections": true,
   "sideBar": true,
   "skip_h1_title": false,
   "title_cell": "Table of Contents",
   "title_sidebar": "Contents",
   "toc_cell": false,
   "toc_position": {
    "height": "calc(100% - 180px)",
    "left": "10px",
    "top": "150px",
    "width": "283.513px"
   },
   "toc_section_display": true,
   "toc_window_display": true
  }
 },
 "nbformat": 4,
 "nbformat_minor": 2
}
