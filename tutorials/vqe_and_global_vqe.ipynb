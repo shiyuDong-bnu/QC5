{
 "cells": [
  {
   "cell_type": "code",
   "execution_count": 1,
   "id": "aa1c5f64",
   "metadata": {},
   "outputs": [],
   "source": [
    "import numpy as np\n",
    "import sys\n",
    "sys.path.append(\"/home/lenovo2/usrs/xxxiao/a1_py39\")\n",
    "# from QC_master.ansatze.hea_and_hva.hea import *\n",
    "# from QC_master.ansatze.hea_and_hva.heisenberg_2D_cir import *\n",
    "# from QC_master.ansatze.hea_and_hva.hubbard_2D_cir import *\n",
    "# from QC_master.ansatze.hea_and_hva.hf_cir import *"
   ]
  },
  {
   "cell_type": "code",
   "execution_count": 2,
   "id": "cc2548c8",
   "metadata": {
    "scrolled": true
   },
   "outputs": [
    {
     "name": "stderr",
     "output_type": "stream",
     "text": [
      "/home/lenovo2/anaconda3/envs/py39/lib/python3.9/site-packages/mindquantum/simulator/__init__.py:17: UserWarning: Disable mqvector gpu backend due to: Malloc GPU memory failed: cudaErrorInsufficientDriver, CUDA driver version is insufficient for CUDA runtime version\n",
      "  from .available_simulator import SUPPORTED_SIMULATOR\n"
     ]
    }
   ],
   "source": [
    "from QC_master.hamiltonians.hamiltonian_molecular import *\n",
    "from QC_master.ansatze.hea_and_hva.get_cir import *\n",
    "from QC_master.algorithms.global_vqe import *"
   ]
  },
  {
   "cell_type": "code",
   "execution_count": 10,
   "id": "6a320525",
   "metadata": {},
   "outputs": [
    {
     "name": "stdout",
     "output_type": "stream",
     "text": [
      "converged SCF energy = -1.82913741235269\n",
      "eRHF -1.829137412352687\n",
      "eFCI -1.9961503255188098\n",
      "*This state E = -1.996150 a.u. 2S+1= 1.00\n",
      "det_A_&_B [0 1] [0 1]  0.865800 0.7496\n",
      "det_A_&_B [0 2] [0 2] -0.326078 0.1063\n",
      "det_A_&_B [0 2] [1 3] -0.122488 0.0150\n",
      "det_A_&_B [1 2] [0 3] -0.175350 0.0307\n",
      "det_A_&_B [0 3] [1 2] -0.175350 0.0307\n",
      "det_A_&_B [1 3] [0 2] -0.122488 0.0150\n",
      "det_A_&_B [1 3] [1 3] -0.140096 0.0196\n",
      "det_A_&_B [2 3] [2 3]  0.103837 0.0108\n",
      "penalty hamiltonian: beta0-sp-sm 0 beta1-na-nb 0\n"
     ]
    }
   ],
   "source": [
    "geom = genAn('H',4,1.5)\n",
    "ham = qubit_molecular_hamiltonian(geom)\n",
    "nqubits = 8\n",
    "cir = get_hea_ansatz(nqubits,1,'ry_cascade')"
   ]
  },
  {
   "cell_type": "code",
   "execution_count": 11,
   "id": "71d45f96",
   "metadata": {
    "scrolled": true
   },
   "outputs": [
    {
     "name": "stdout",
     "output_type": "stream",
     "text": [
      "VQE Runing under the BFGS optimizer with threshold 1e-06 maxniter default\n",
      "Time: Mon Sep 18 14:21:53 2023; Iteration 0 expectation = -0.40735702630402637\n",
      "Time: Mon Sep 18 14:21:53 2023; Iteration 1 expectation = -0.7729296196574549\n",
      "Time: Mon Sep 18 14:21:53 2023; Iteration 2 expectation = -1.0843969447222184\n",
      "Time: Mon Sep 18 14:21:53 2023; Iteration 3 expectation = -1.1940861831710943\n",
      "Time: Mon Sep 18 14:21:53 2023; Iteration 4 expectation = -1.373063170576919\n",
      "Time: Mon Sep 18 14:21:53 2023; Iteration 5 expectation = -1.462070190986791\n",
      "Time: Mon Sep 18 14:21:53 2023; Iteration 6 expectation = -1.5368840835796795\n",
      "Time: Mon Sep 18 14:21:53 2023; Iteration 7 expectation = -1.6152690325119647\n",
      "Time: Mon Sep 18 14:21:53 2023; Iteration 8 expectation = -1.6550345533185966\n",
      "Time: Mon Sep 18 14:21:53 2023; Iteration 9 expectation = -1.6739033351582098\n",
      "Time: Mon Sep 18 14:21:53 2023; Iteration 10 expectation = -1.700516598302764\n",
      "Time: Mon Sep 18 14:21:53 2023; Iteration 11 expectation = -1.7177947633806263\n",
      "Time: Mon Sep 18 14:21:53 2023; Iteration 12 expectation = -1.7253168040763547\n",
      "Time: Mon Sep 18 14:21:53 2023; Iteration 13 expectation = -1.7281818797235426\n",
      "Time: Mon Sep 18 14:21:53 2023; Iteration 14 expectation = -1.7297251534355174\n",
      "Time: Mon Sep 18 14:21:53 2023; Iteration 15 expectation = -1.7308229457277438\n",
      "Time: Mon Sep 18 14:21:53 2023; Iteration 16 expectation = -1.7312540312840188\n",
      "Time: Mon Sep 18 14:21:53 2023; Iteration 17 expectation = -1.7314884589676582\n",
      "Time: Mon Sep 18 14:21:53 2023; Iteration 18 expectation = -1.7316582363544057\n",
      "Time: Mon Sep 18 14:21:53 2023; Iteration 19 expectation = -1.7317729693448245\n",
      "Time: Mon Sep 18 14:21:53 2023; Iteration 20 expectation = -1.731829917791057\n",
      "Time: Mon Sep 18 14:21:53 2023; Iteration 21 expectation = -1.7318643141898322\n",
      "Time: Mon Sep 18 14:21:53 2023; Iteration 22 expectation = -1.7318898240025045\n",
      "Time: Mon Sep 18 14:21:53 2023; Iteration 23 expectation = -1.7319095377721394\n",
      "Time: Mon Sep 18 14:21:53 2023; Iteration 24 expectation = -1.7319263812936603\n",
      "Time: Mon Sep 18 14:21:53 2023; Iteration 25 expectation = -1.7319419443793012\n",
      "Time: Mon Sep 18 14:21:53 2023; Iteration 26 expectation = -1.7319537429544711\n",
      "Time: Mon Sep 18 14:21:53 2023; Iteration 27 expectation = -1.7319597829274556\n",
      "Time: Mon Sep 18 14:21:53 2023; Iteration 28 expectation = -1.7319620216125917\n",
      "Time: Mon Sep 18 14:21:53 2023; Iteration 29 expectation = -1.7319628569446595\n",
      "Time: Mon Sep 18 14:21:53 2023; Iteration 30 expectation = -1.7319632164838406\n",
      "Time: Mon Sep 18 14:21:53 2023; Iteration 31 expectation = -1.731963395095434\n",
      "Time: Mon Sep 18 14:21:53 2023; Iteration 32 expectation = -1.7319635101804183\n",
      "Time: Mon Sep 18 14:21:53 2023; Iteration 33 expectation = -1.7319635852819637\n",
      "Time: Mon Sep 18 14:21:53 2023; Iteration 34 expectation = -1.731963625176296\n",
      "Time: Mon Sep 18 14:21:53 2023; Iteration 35 expectation = -1.7319636472855424\n",
      "Time: Mon Sep 18 14:21:53 2023; Iteration 36 expectation = -1.7319636629896784\n",
      "Time: Mon Sep 18 14:21:53 2023; Iteration 37 expectation = -1.7319636720269962\n",
      "Time: Mon Sep 18 14:21:53 2023; Iteration 38 expectation = -1.7319636747578737\n",
      "Time: Mon Sep 18 14:21:53 2023; Iteration 39 expectation = -1.7319636752464893\n",
      "Time: Mon Sep 18 14:21:53 2023; Iteration 40 expectation = -1.7319636754130925\n",
      "Time: Mon Sep 18 14:21:53 2023; Iteration 41 expectation = -1.7319636755988945\n",
      "Time: Mon Sep 18 14:21:53 2023; Iteration 42 expectation = -1.7319636757913386\n",
      "Time: Mon Sep 18 14:21:53 2023; Iteration 43 expectation = -1.7319636759542443\n",
      "Time: Mon Sep 18 14:21:53 2023; Iteration 44 expectation = -1.7319636760363237\n",
      "Time: Mon Sep 18 14:21:53 2023; Iteration 45 expectation = -1.7319636760631618\n",
      "Time: Mon Sep 18 14:21:53 2023; Iteration 46 expectation = -1.7319636760726556\n",
      "Time: Mon Sep 18 14:21:53 2023; Iteration 47 expectation = -1.7319636760783073\n",
      "Optimization terminated successfully.\n",
      "         Current function value: -1.731964\n",
      "         Iterations: 47\n",
      "         Function evaluations: 48\n",
      "         Gradient evaluations: 48\n",
      "-----------------  VQE Information Summary  -----------------\n",
      "Success: True\n",
      "Optimization terminated successfully.\n",
      "Energy: -1.7319636760783073 \n",
      "Amplitudes number: 24 \n",
      "Time Consuming: 0.058 s          \n",
      "Iteration Number: 47 \n",
      "Max_gnorm: 5.829086591303602e-07\n",
      "Overlap between psi_0 and psi_opt is 0.014412147414920369 nparams is 24\n",
      "Initial Amplitudes: \n",
      "[1.0, 1.0, 1.0, 1.0, 1.0, 1.0, 1.0, 1.0, 1.0, 1.0, 1.0, 1.0, 1.0, 1.0, 1.0, 1.0, 1.0, 1.0, 1.0, 1.0, 1.0, 1.0, 1.0, 1.0]\n",
      "Optimized Amplitudes: \n",
      "[1.9097058127441802, 1.6947579165173452, 1.5707958221182385, -4.815646899911614e-07, 1.5707981868930045, 1.4074290068735907e-06, 1.570796611231364, -2.674392631546947e-06, 1.1441664477800684, 2.244891355138043, 1.252635932745874, 1.2526385134385696, 0.5767290006453648, 0.5767291181699871, 0.37232080989550914, 0.37232107909798184, -0.14457849103261788, 0.6276994464978661, 1.570796796761796, -4.3487773492137107e-07, 1.5707930325545985, 9.987882290411464e-08, 1.5707965954626144, 1.4566322921296183e-06]\n",
      "--------------------------------------------------------------\n"
     ]
    }
   ],
   "source": [
    "vqe = get_scipy_optimized_vqe(ham,cir,np.ones(len(cir.params_name)),printdetails=True)"
   ]
  },
  {
   "cell_type": "code",
   "execution_count": 12,
   "id": "aa0db0f9",
   "metadata": {
    "scrolled": true
   },
   "outputs": [
    {
     "name": "stdout",
     "output_type": "stream",
     "text": [
      "See the \"vqe\" folder for details\n",
      "nqubits 8 nelec (0, 0)\n",
      "Generating initial guess, direction:0, stepsize:0, largest amplitudes:0\n",
      "Generating initial guess, direction:1, stepsize:0, largest amplitudes:6.283185307179586\n",
      "VQE Runing under the BFGS optimizer with threshold 1e-06 maxniter default\n",
      "Optimization terminated successfully.\n",
      "         Current function value: -1.829137\n",
      "         Iterations: 0\n",
      "         Function evaluations: 1\n",
      "         Gradient evaluations: 1\n",
      "-----------------  VQE Information Summary  -----------------\n",
      "Success: True\n",
      "Optimization terminated successfully.\n",
      "Energy: -1.8291374123526847 \n",
      "Amplitudes number: 24 \n",
      "Time Consuming: 0.01 s          \n",
      "Iteration Number: 0 \n",
      "Max_gnorm: 0.0\n",
      "--------------------------------------------------------------\n",
      "VQE Runing under the BFGS optimizer with threshold 1e-06 maxniter default\n",
      "Optimization terminated successfully.\n",
      "         Current function value: -1.731964\n",
      "         Iterations: 56\n",
      "         Function evaluations: 57\n",
      "         Gradient evaluations: 57\n",
      "-----------------  VQE Information Summary  -----------------\n",
      "Success: True\n",
      "Optimization terminated successfully.\n",
      "Energy: -1.7319636760762045 \n",
      "Amplitudes number: 24 \n",
      "Time Consuming: 0.057 s          \n",
      "Iteration Number: 56 \n",
      "Max_gnorm: 8.998669351840351e-07\n",
      "--------------------------------------------------------------\n",
      "Runing Multiprocess, layer 1 time consuming: 0.350 s ncore=2\n",
      "layer 1 min_idx 0 ndirection 0 stepsize 0\n",
      "================================================================\n",
      "Generating initial guess, direction:0, stepsize:0, largest amplitudes:0\n",
      "Generating initial guess, direction:1, stepsize:0, largest amplitudes:6.283185307179586\n",
      "VQE Runing under the BFGS optimizer with threshold 1e-06 maxniter default\n",
      "Optimization terminated successfully.\n",
      "         Current function value: -1.829137\n",
      "         Iterations: 0\n",
      "         Function evaluations: 1\n",
      "         Gradient evaluations: 1\n",
      "-----------------  VQE Information Summary  -----------------\n",
      "Success: True\n",
      "Optimization terminated successfully.\n",
      "Energy: -1.8291374123526847 \n",
      "Amplitudes number: 40 \n",
      "Time Consuming: 0.01 s          \n",
      "Iteration Number: 0 \n",
      "Max_gnorm: 0.0\n",
      "--------------------------------------------------------------\n",
      "VQE Runing under the BFGS optimizer with threshold 1e-06 maxniter default\n",
      "Optimization terminated successfully.\n",
      "         Current function value: -1.906918\n",
      "         Iterations: 210\n",
      "         Function evaluations: 219\n",
      "         Gradient evaluations: 219\n",
      "-----------------  VQE Information Summary  -----------------\n",
      "Success: True\n",
      "Optimization terminated successfully.\n",
      "Energy: -1.9069180148707936 \n",
      "Amplitudes number: 40 \n",
      "Time Consuming: 0.269 s          \n",
      "Iteration Number: 210 \n",
      "Max_gnorm: 3.373205833648142e-07\n",
      "--------------------------------------------------------------\n",
      "Runing Multiprocess, layer 2 time consuming: 0.580 s ncore=2\n",
      "layer 2 min_idx 1 ndirection 1 stepsize 0\n",
      "================================================================\n",
      "Total time: 0.9954373836517334 s\n"
     ]
    }
   ],
   "source": [
    "global_vqe = GlobalVQE(ham,nqubits,2,'ry_cascade',hea_ref=[0,1,2,3])"
   ]
  },
  {
   "cell_type": "code",
   "execution_count": 13,
   "id": "cd54c7cb",
   "metadata": {},
   "outputs": [
    {
     "data": {
      "text/plain": [
       "array([-1.82913741, -1.82913741, -1.90691801])"
      ]
     },
     "execution_count": 13,
     "metadata": {},
     "output_type": "execute_result"
    }
   ],
   "source": [
    "global_vqe"
   ]
  },
  {
   "cell_type": "code",
   "execution_count": 14,
   "id": "1a6fcd4f",
   "metadata": {
    "collapsed": true
   },
   "outputs": [
    {
     "name": "stdout",
     "output_type": "stream",
     "text": [
      "See the \"vqe\" folder for details\n",
      "nqubits 8 nelec (0, 0)\n",
      "Global vqe go on \n",
      "Generating initial guess, direction:0, stepsize:0, largest amplitudes:0\n",
      "Generating initial guess, direction:1, stepsize:0, largest amplitudes:6.283185307179586\n",
      "VQE Runing under the BFGS optimizer with threshold 1e-06 maxniter default\n",
      "Optimization terminated successfully.\n",
      "         Current function value: -1.906918\n",
      "         Iterations: 0\n",
      "         Function evaluations: 1\n",
      "         Gradient evaluations: 1\n",
      "-----------------  VQE Information Summary  -----------------\n",
      "Success: True\n",
      "Optimization terminated successfully.\n",
      "Energy: -1.9069180148707936 \n",
      "Amplitudes number: 56 \n",
      "Time Consuming: 0.01 s          \n",
      "Iteration Number: 0 \n",
      "Max_gnorm: 3.373205833648142e-07\n",
      "--------------------------------------------------------------\n",
      "VQE Runing under the BFGS optimizer with threshold 1e-06 maxniter default\n",
      "Optimization terminated successfully.\n",
      "         Current function value: -1.731964\n",
      "         Iterations: 83\n",
      "         Function evaluations: 84\n",
      "         Gradient evaluations: 84\n",
      "-----------------  VQE Information Summary  -----------------\n",
      "Success: True\n",
      "Optimization terminated successfully.\n",
      "Energy: -1.7319636754297343 \n",
      "Amplitudes number: 56 \n",
      "Time Consuming: 0.139 s          \n",
      "Iteration Number: 83 \n",
      "Max_gnorm: 6.873369024277307e-07\n",
      "--------------------------------------------------------------\n",
      "Runing Multiprocess, layer 3 time consuming: 0.444 s ncore=2\n",
      "layer 3 min_idx 0 ndirection 0 stepsize 0\n",
      "================================================================\n",
      "Generating initial guess, direction:0, stepsize:0, largest amplitudes:0\n",
      "Generating initial guess, direction:1, stepsize:0, largest amplitudes:6.283185307179586\n",
      "VQE Runing under the BFGS optimizer with threshold 1e-06 maxniter default\n",
      "Optimization terminated successfully.\n",
      "         Current function value: -1.906918\n",
      "         Iterations: 0\n",
      "         Function evaluations: 1\n",
      "         Gradient evaluations: 1\n",
      "-----------------  VQE Information Summary  -----------------\n",
      "Success: True\n",
      "Optimization terminated successfully.\n",
      "Energy: -1.9069180148707936 \n",
      "Amplitudes number: 72 \n",
      "Time Consuming: 0.01 s          \n",
      "Iteration Number: 0 \n",
      "Max_gnorm: 3.373205833648142e-07\n",
      "--------------------------------------------------------------\n",
      "VQE Runing under the BFGS optimizer with threshold 1e-06 maxniter default\n",
      "Optimization terminated successfully.\n",
      "         Current function value: -1.934461\n",
      "         Iterations: 440\n",
      "         Function evaluations: 446\n",
      "         Gradient evaluations: 446\n",
      "-----------------  VQE Information Summary  -----------------\n",
      "Success: True\n",
      "Optimization terminated successfully.\n",
      "Energy: -1.934460940680488 \n",
      "Amplitudes number: 72 \n",
      "Time Consuming: 0.87 s          \n",
      "Iteration Number: 440 \n",
      "Max_gnorm: 5.755456232110279e-07\n",
      "--------------------------------------------------------------\n",
      "Runing Multiprocess, layer 4 time consuming: 1.177 s ncore=2\n",
      "layer 4 min_idx 1 ndirection 1 stepsize 0\n",
      "================================================================\n",
      "Generating initial guess, direction:0, stepsize:0, largest amplitudes:0\n",
      "Generating initial guess, direction:1, stepsize:0, largest amplitudes:6.283185307179586\n",
      "VQE Runing under the BFGS optimizer with threshold 1e-06 maxniter default\n",
      "Optimization terminated successfully.\n",
      "         Current function value: -1.934461\n",
      "         Iterations: 0\n",
      "         Function evaluations: 1\n",
      "         Gradient evaluations: 1\n",
      "-----------------  VQE Information Summary  -----------------\n",
      "Success: True\n",
      "Optimization terminated successfully.\n",
      "Energy: -1.934460940680488 \n",
      "Amplitudes number: 88 \n",
      "Time Consuming: 0.01 s          \n",
      "Iteration Number: 0 \n",
      "Max_gnorm: 5.755456232110279e-07\n",
      "--------------------------------------------------------------\n",
      "VQE Runing under the BFGS optimizer with threshold 1e-06 maxniter default\n",
      "Optimization terminated successfully.\n",
      "         Current function value: -1.995533\n",
      "         Iterations: 988\n",
      "         Function evaluations: 1029\n",
      "         Gradient evaluations: 1029\n",
      "-----------------  VQE Information Summary  -----------------\n",
      "Success: True\n",
      "Optimization terminated successfully.\n",
      "Energy: -1.995533260777025 \n",
      "Amplitudes number: 88 \n",
      "Time Consuming: 2.363 s          \n",
      "Iteration Number: 988 \n",
      "Max_gnorm: 2.1468732314610329e-07\n",
      "--------------------------------------------------------------\n",
      "Runing Multiprocess, layer 5 time consuming: 2.665 s ncore=2\n",
      "layer 5 min_idx 1 ndirection 1 stepsize 0\n",
      "================================================================\n",
      "Total time: 4.335897445678711 s\n"
     ]
    }
   ],
   "source": [
    "global_vqe = GlobalVQE(ham,nqubits,5,'ry_cascade',hea_ref=[0,1,2,3],restart_layer=3)"
   ]
  },
  {
   "cell_type": "code",
   "execution_count": 15,
   "id": "ddbd15f8",
   "metadata": {
    "scrolled": true
   },
   "outputs": [
    {
     "data": {
      "text/plain": [
       "array([-1.82913741, -1.82913741, -1.90691801, -1.90691801, -1.93446094,\n",
       "       -1.99553326])"
      ]
     },
     "execution_count": 15,
     "metadata": {},
     "output_type": "execute_result"
    }
   ],
   "source": [
    "global_vqe"
   ]
  }
 ],
 "metadata": {
  "kernelspec": {
   "display_name": "Python [conda env:py39]",
   "language": "python",
   "name": "conda-env-py39-py"
  },
  "language_info": {
   "codemirror_mode": {
    "name": "ipython",
    "version": 3
   },
   "file_extension": ".py",
   "mimetype": "text/x-python",
   "name": "python",
   "nbconvert_exporter": "python",
   "pygments_lexer": "ipython3",
   "version": "3.9.0"
  },
  "toc": {
   "base_numbering": 1,
   "nav_menu": {},
   "number_sections": true,
   "sideBar": true,
   "skip_h1_title": false,
   "title_cell": "Table of Contents",
   "title_sidebar": "Contents",
   "toc_cell": false,
   "toc_position": {
    "height": "calc(100% - 180px)",
    "left": "10px",
    "top": "150px",
    "width": "165px"
   },
   "toc_section_display": true,
   "toc_window_display": false
  }
 },
 "nbformat": 4,
 "nbformat_minor": 5
}
